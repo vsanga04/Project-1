{
 "cells": [
  {
   "cell_type": "code",
   "execution_count": null,
   "metadata": {},
   "outputs": [],
   "source": [
    "import pandas as pd\n",
    "import numpy as np\n",
    "import matplotlib.pyplot as plt\n",
    "\n",
    "\n",
    "health_data = \"april-2021-active-enrolled-providers-report-with-formatting.csv\" \n",
    "health_data_df = pd.read_csv(health_data, low_memory=False)\n",
    "health_data_df = health_data_df.dropna(how=\"any\")\n",
    "health_data_df"
   ]
  },
  {
   "cell_type": "code",
   "execution_count": null,
   "metadata": {},
   "outputs": [],
   "source": [
    "#pulling information to include in analysis\n",
    "#Provider Legal Name\n",
    "#Provider Type Code Desc\n",
    "#Provider Specialty Code Desc\n",
    "#Provider Address County Code Desc\n",
    "#Provider Address Latitude\n",
    "#Provider Address Longitude\n",
    "#NPI Provider Number\n",
    "\n",
    "clean_data = health_data_df.loc[:, [\"NPI Provider Number\", \"Provider Address Latitude\", \"Provider Address Longitude\",\n",
    "                                             \"Provider Address County Code Desc\", \"Provider Address Zip\",\n",
    "                                             \"Provider Type Code Desc\", \"Provider Legal Name\", \"Out Of State Desc\", \"Provider Address State\"]]\n",
    "clean_data_df = clean_data.rename(columns={\"NPI Provider Number\":\"NPI\", \"Provider Address Latitude\":\"Latitude\", \n",
    "                                          \"Provider Address Longitude\":\"Longitude\", \"Provider Address Zip\":\"Zip\", \n",
    "                                          \"Provider Type Code Desc\":\"Provider Type\"})\n",
    "clean_data_df.columns\n"
   ]
  },
  {
   "cell_type": "code",
   "execution_count": null,
   "metadata": {
    "scrolled": true
   },
   "outputs": [],
   "source": [
    "#Cleaned data and begin extraction for analysis\n",
    "\n",
    "provider_type = pd.DataFrame(clean_data_df[\"Provider Type\"].value_counts())\n",
    "provider_df = provider_type[provider_type['Provider Type'] > 400]\n",
    "\n",
    "provider_df\n",
    "\n"
   ]
  },
  {
   "cell_type": "code",
   "execution_count": null,
   "metadata": {},
   "outputs": [],
   "source": [
    "explode = (0.1, 0, 0, 0, 0) \n",
    "labels = [\"PHYSICIANS GROUP\", \"PHYSICIANS\", \"HOME HEALTH AGENCIES\", \"PHARMACIES\", \"DEVELEPMENTAL SCREENING\"]\n",
    "colors = [\"red\", \"orange\", \"lightcoral\", \"lightskyblue\", \"green\"]\n",
    "plt.pie(np.array(provider_df).ravel(),explode=explode, labels=labels, colors=colors,\n",
    "        autopct=\"%1.1f%%\", shadow=True, startangle=140)\n",
    "plt.axis(\"equal\")"
   ]
  },
  {
   "cell_type": "code",
   "execution_count": null,
   "metadata": {},
   "outputs": [],
   "source": [
    "providers = [\"PHYSICIANS GROUP\", \"PHYSICIANS\", \"HOME HEALTH\", \"PHARMACIES\", \"DEVELEPMENTAL\"]\n",
    "x_axis = np.arange(len(providers))\n",
    "y_axis = provider_df['Provider Type'].squeeze()\n",
    "#print(y_axis)\n",
    "print(x_axis)\n",
    "#provider_groups = provider_df[\"Provider Type\"][0]\n",
    "plt.bar(providers, y_axis, color=\"b\", align=\"center\")\n",
    "plt.title(\"Types of Services Available in California\")\n",
    "plt.xlabel(\"Types of Services\")\n",
    "plt.ylabel(\"Number of Clinics\")\n",
    "plt.xticks(rotation = 90)\n",
    "#plt.figure(figsize=(100,5))\n",
    "#tick_locations = [value for value in x_axis]\n",
    "#plt.xticks(tick_locations, \"\")\n",
    "#plt.xticks(tick_locations, provider_groups)"
   ]
  },
  {
   "cell_type": "code",
   "execution_count": null,
   "metadata": {},
   "outputs": [],
   "source": []
  }
 ],
 "metadata": {
  "kernelspec": {
   "display_name": "Python [conda env:PythonData] *",
   "language": "python",
   "name": "conda-env-PythonData-py"
  },
  "language_info": {
   "codemirror_mode": {
    "name": "ipython",
    "version": 3
   },
   "file_extension": ".py",
   "mimetype": "text/x-python",
   "name": "python",
   "nbconvert_exporter": "python",
   "pygments_lexer": "ipython3",
   "version": "3.6.10"
  }
 },
 "nbformat": 4,
 "nbformat_minor": 4
}
